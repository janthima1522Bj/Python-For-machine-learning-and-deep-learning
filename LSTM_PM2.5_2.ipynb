{
 "cells": [
  {
   "cell_type": "code",
   "execution_count": 1,
   "metadata": {},
   "outputs": [],
   "source": [
    "import numpy as np \n",
    "import pandas as pd \n",
    "import matplotlib.pyplot as plt \n",
    "from tensorflow.keras import Sequential\n",
    "from tensorflow.keras.layers import LSTM, Dense"
   ]
  },
  {
   "cell_type": "code",
   "execution_count": 2,
   "metadata": {},
   "outputs": [
    {
     "data": {
      "text/html": [
       "<div>\n",
       "<style scoped>\n",
       "    .dataframe tbody tr th:only-of-type {\n",
       "        vertical-align: middle;\n",
       "    }\n",
       "\n",
       "    .dataframe tbody tr th {\n",
       "        vertical-align: top;\n",
       "    }\n",
       "\n",
       "    .dataframe thead th {\n",
       "        text-align: right;\n",
       "    }\n",
       "</style>\n",
       "<table border=\"1\" class=\"dataframe\">\n",
       "  <thead>\n",
       "    <tr style=\"text-align: right;\">\n",
       "      <th></th>\n",
       "      <th>PM2.5</th>\n",
       "    </tr>\n",
       "    <tr>\n",
       "      <th>date</th>\n",
       "      <th></th>\n",
       "    </tr>\n",
       "  </thead>\n",
       "  <tbody>\n",
       "    <tr>\n",
       "      <th>2016-03-03 08:00:00</th>\n",
       "      <td>53.99</td>\n",
       "    </tr>\n",
       "    <tr>\n",
       "      <th>2016-03-03 09:00:00</th>\n",
       "      <td>53.95</td>\n",
       "    </tr>\n",
       "    <tr>\n",
       "      <th>2016-03-03 10:00:00</th>\n",
       "      <td>54.10</td>\n",
       "    </tr>\n",
       "    <tr>\n",
       "      <th>2016-03-03 11:00:00</th>\n",
       "      <td>53.93</td>\n",
       "    </tr>\n",
       "    <tr>\n",
       "      <th>2016-03-03 12:00:00</th>\n",
       "      <td>41.23</td>\n",
       "    </tr>\n",
       "    <tr>\n",
       "      <th>...</th>\n",
       "      <td>...</td>\n",
       "    </tr>\n",
       "    <tr>\n",
       "      <th>2022-03-13 17:00:00</th>\n",
       "      <td>56.30</td>\n",
       "    </tr>\n",
       "    <tr>\n",
       "      <th>2022-03-13 18:00:00</th>\n",
       "      <td>53.34</td>\n",
       "    </tr>\n",
       "    <tr>\n",
       "      <th>2022-03-13 19:00:00</th>\n",
       "      <td>51.25</td>\n",
       "    </tr>\n",
       "    <tr>\n",
       "      <th>2022-03-13 20:00:00</th>\n",
       "      <td>48.54</td>\n",
       "    </tr>\n",
       "    <tr>\n",
       "      <th>2022-03-13 21:00:00</th>\n",
       "      <td>46.74</td>\n",
       "    </tr>\n",
       "  </tbody>\n",
       "</table>\n",
       "<p>46904 rows × 1 columns</p>\n",
       "</div>"
      ],
      "text/plain": [
       "                     PM2.5\n",
       "date                      \n",
       "2016-03-03 08:00:00  53.99\n",
       "2016-03-03 09:00:00  53.95\n",
       "2016-03-03 10:00:00  54.10\n",
       "2016-03-03 11:00:00  53.93\n",
       "2016-03-03 12:00:00  41.23\n",
       "...                    ...\n",
       "2022-03-13 17:00:00  56.30\n",
       "2022-03-13 18:00:00  53.34\n",
       "2022-03-13 19:00:00  51.25\n",
       "2022-03-13 20:00:00  48.54\n",
       "2022-03-13 21:00:00  46.74\n",
       "\n",
       "[46904 rows x 1 columns]"
      ]
     },
     "execution_count": 2,
     "metadata": {},
     "output_type": "execute_result"
    }
   ],
   "source": [
    "#http://berkeleyearth.org/air-pollution-overview/\n",
    "\n",
    "from pandas import read_csv\n",
    "from datetime import datetime\n",
    "\n",
    "def parse(x):\n",
    "\treturn datetime.strptime(x, '%Y %m %d %H')\n",
    "\t\n",
    "df = pd.read_csv('Thailand.csv', usecols=[0,1,2,3,4], engine='python', \n",
    "\t\t\t\tparse_dates = [['Year', 'Month', 'Day', 'Hour']], \n",
    "\t\t\t\tindex_col=0, date_parser=parse)\n",
    "df.index.name = 'date'\n",
    "df "
   ]
  },
  {
   "cell_type": "code",
   "execution_count": 3,
   "metadata": {},
   "outputs": [
    {
     "data": {
      "text/html": [
       "<div>\n",
       "<style scoped>\n",
       "    .dataframe tbody tr th:only-of-type {\n",
       "        vertical-align: middle;\n",
       "    }\n",
       "\n",
       "    .dataframe tbody tr th {\n",
       "        vertical-align: top;\n",
       "    }\n",
       "\n",
       "    .dataframe thead th {\n",
       "        text-align: right;\n",
       "    }\n",
       "</style>\n",
       "<table border=\"1\" class=\"dataframe\">\n",
       "  <thead>\n",
       "    <tr style=\"text-align: right;\">\n",
       "      <th></th>\n",
       "      <th>count</th>\n",
       "      <th>mean</th>\n",
       "      <th>std</th>\n",
       "      <th>min</th>\n",
       "      <th>25%</th>\n",
       "      <th>50%</th>\n",
       "      <th>75%</th>\n",
       "      <th>max</th>\n",
       "    </tr>\n",
       "  </thead>\n",
       "  <tbody>\n",
       "    <tr>\n",
       "      <th>PM2.5</th>\n",
       "      <td>46904.0</td>\n",
       "      <td>24.04</td>\n",
       "      <td>13.63</td>\n",
       "      <td>4.02</td>\n",
       "      <td>13.14</td>\n",
       "      <td>19.49</td>\n",
       "      <td>33.05</td>\n",
       "      <td>131.54</td>\n",
       "    </tr>\n",
       "  </tbody>\n",
       "</table>\n",
       "</div>"
      ],
      "text/plain": [
       "         count   mean    std   min    25%    50%    75%     max\n",
       "PM2.5  46904.0  24.04  13.63  4.02  13.14  19.49  33.05  131.54"
      ]
     },
     "execution_count": 3,
     "metadata": {},
     "output_type": "execute_result"
    }
   ],
   "source": [
    "df.describe().round(2).T"
   ]
  },
  {
   "cell_type": "code",
   "execution_count": 4,
   "metadata": {},
   "outputs": [
    {
     "data": {
      "image/png": "[encoded data removed]",
      "text/plain": [
       "<Figure size 864x288 with 1 Axes>"
      ]
     },
     "metadata": {
      "needs_background": "light"
     },
     "output_type": "display_data"
    }
   ],
   "source": [
    "\n",
    "plt.figure(figsize=(12, 4))\n",
    "plt.plot(df, 'b', lw=3.0, label='PM2.5 in Thailand')\n",
    "plt.legend()\n",
    "plt.show()"
   ]
  },
  {
   "cell_type": "code",
   "execution_count": 267,
   "metadata": {},
   "outputs": [
    {
     "name": "stdout",
     "output_type": "stream",
     "text": [
      "<class 'pandas.core.frame.DataFrame'>\n",
      "DatetimeIndex: 46904 entries, 2016-03-03 08:00:00 to 2022-03-13 21:00:00\n",
      "Data columns (total 1 columns):\n",
      " #   Column  Non-Null Count  Dtype  \n",
      "---  ------  --------------  -----  \n",
      " 0   PM2.5   46904 non-null  float64\n",
      "dtypes: float64(1)\n",
      "memory usage: 732.9 KB\n"
     ]
    },
    {
     "data": {
      "text/plain": [
       "(46904, 1)"
      ]
     },
     "execution_count": 267,
     "metadata": {},
     "output_type": "execute_result"
    }
   ],
   "source": [
    "df.info()\n",
    "df.shape"
   ]
  },
  {
   "cell_type": "markdown",
   "metadata": {},
   "source": [
    "##### การแบ่งข้อมูลใช้ในการ train และ test"
   ]
  },
  {
   "cell_type": "code",
   "execution_count": 268,
   "metadata": {},
   "outputs": [
    {
     "data": {
      "text/plain": [
       "37523"
      ]
     },
     "execution_count": 268,
     "metadata": {},
     "output_type": "execute_result"
    }
   ],
   "source": [
    "n_train = int(df.shape[0] * 0.80)\n",
    "n_train"
   ]
  },
  {
   "cell_type": "markdown",
   "metadata": {},
   "source": [
    "##### การแปลงข้อมูลให้เป็น Normalize คือแปลงข้อมูลให้เป็นเลข 0-1"
   ]
  },
  {
   "cell_type": "code",
   "execution_count": 269,
   "metadata": {},
   "outputs": [
    {
     "data": {
      "text/plain": [
       "array([[0.3918601 ],\n",
       "       [0.39154642],\n",
       "       [0.39272271],\n",
       "       [0.39138959],\n",
       "       [0.29179737]])"
      ]
     },
     "execution_count": 269,
     "metadata": {},
     "output_type": "execute_result"
    }
   ],
   "source": [
    "from sklearn.preprocessing import MinMaxScaler\n",
    "\n",
    "sc = MinMaxScaler()\n",
    "data_sc = sc.fit_transform(df.values)\n",
    "data_sc[:5]"
   ]
  },
  {
   "cell_type": "markdown",
   "metadata": {},
   "source": [
    "##### สร้างฟังก์ชันเพื่อเตรียมข้อมูลให้เป็น matrix ใช้ step = 2"
   ]
  },
  {
   "cell_type": "code",
   "execution_count": 270,
   "metadata": {},
   "outputs": [],
   "source": [
    "def convertToMatrix(data, step=2):\n",
    "    X, Y, = [], []\n",
    "    for i in range(len(data)-step):\n",
    "        d = i + step\n",
    "        X.append(data[i:d,])\n",
    "        Y.append(data[d,])\n",
    "    return np.array(X), np.array(Y)"
   ]
  },
  {
   "cell_type": "markdown",
   "metadata": {},
   "source": [
    "##### การแบ่งข้อมูลเพื่อใช้ในการ train และ test "
   ]
  },
  {
   "cell_type": "code",
   "execution_count": 271,
   "metadata": {},
   "outputs": [
    {
     "data": {
      "text/plain": [
       "((37523, 1), (9381, 1))"
      ]
     },
     "execution_count": 271,
     "metadata": {},
     "output_type": "execute_result"
    }
   ],
   "source": [
    "train, test = data_sc[0:n_train], data_sc[n_train:]\n",
    "train.shape, test.shape"
   ]
  },
  {
   "cell_type": "code",
   "execution_count": 272,
   "metadata": {},
   "outputs": [
    {
     "name": "stdout",
     "output_type": "stream",
     "text": [
      "Train Test (after conversion): (37521, 2, 1) (9379, 2, 1)\n",
      "(37521, 1) (9379, 1)\n"
     ]
    }
   ],
   "source": [
    "step = 2\n",
    "\n",
    "X_train, y_train = convertToMatrix(train, step)\n",
    "X_test, y_test = convertToMatrix(test, step)\n",
    "\n",
    "print('Train Test (after conversion):', X_train.shape, X_test.shape)\n",
    "print(y_train.shape, y_test.shape)"
   ]
  },
  {
   "cell_type": "markdown",
   "metadata": {},
   "source": [
    "##### การสร้างโมเดล AI"
   ]
  },
  {
   "cell_type": "code",
   "execution_count": 273,
   "metadata": {},
   "outputs": [
    {
     "name": "stdout",
     "output_type": "stream",
     "text": [
      "Model: \"sequential_8\"\n",
      "_________________________________________________________________\n",
      " Layer (type)                Output Shape              Param #   \n",
      "=================================================================\n",
      " lstm_8 (LSTM)               (None, 32)                4352      \n",
      "                                                                 \n",
      " dense_8 (Dense)             (None, 1)                 33        \n",
      "                                                                 \n",
      "=================================================================\n",
      "Total params: 4,385\n",
      "Trainable params: 4,385\n",
      "Non-trainable params: 0\n",
      "_________________________________________________________________\n"
     ]
    }
   ],
   "source": [
    "model = Sequential()\n",
    "model.add(LSTM(units=32, input_shape=(step, 1), activation='relu'))\n",
    "model.add(Dense(1))\n",
    "\n",
    "model.summary()"
   ]
  },
  {
   "cell_type": "code",
   "execution_count": 274,
   "metadata": {},
   "outputs": [
    {
     "data": {
      "image/png": "[encoded data removed]",
      "text/plain": [
       "<IPython.core.display.Image object>"
      ]
     },
     "execution_count": 274,
     "metadata": {},
     "output_type": "execute_result"
    }
   ],
   "source": [
    "from tensorflow.keras.utils import plot_model\n",
    "plot_model(model, 'my_lstm.png', show_shapes=True, show_layer_names=False)"
   ]
  },
  {
   "cell_type": "code",
   "execution_count": 275,
   "metadata": {},
   "outputs": [],
   "source": [
    "model.compile(loss='mean_squared_error', optimizer='adam')"
   ]
  },
  {
   "cell_type": "code",
   "execution_count": 276,
   "metadata": {},
   "outputs": [
    {
     "name": "stdout",
     "output_type": "stream",
     "text": [
      "Epoch 1/10\n",
      "1173/1173 [==============================] - 3s 2ms/step - loss: 0.0020\n",
      "Epoch 2/10\n",
      "1173/1173 [==============================] - 2s 2ms/step - loss: 4.7947e-04\n",
      "Epoch 3/10\n",
      "1173/1173 [==============================] - 2s 2ms/step - loss: 4.0957e-04\n",
      "Epoch 4/10\n",
      "1173/1173 [==============================] - 2s 2ms/step - loss: 3.8235e-04\n",
      "Epoch 5/10\n",
      "1173/1173 [==============================] - 2s 2ms/step - loss: 3.7794e-04\n",
      "Epoch 6/10\n",
      "1173/1173 [==============================] - 3s 3ms/step - loss: 3.7753e-04\n",
      "Epoch 7/10\n",
      "1173/1173 [==============================] - 3s 3ms/step - loss: 3.7708e-04\n",
      "Epoch 8/10\n",
      "1173/1173 [==============================] - 3s 3ms/step - loss: 3.7520e-04\n",
      "Epoch 9/10\n",
      "1173/1173 [==============================] - 3s 3ms/step - loss: 3.7553e-04\n",
      "Epoch 10/10\n",
      "1173/1173 [==============================] - 3s 2ms/step - loss: 3.7496e-04\n"
     ]
    }
   ],
   "source": [
    "history = model.fit(X_train, y_train, epochs=10, batch_size=32, verbose=1)"
   ]
  },
  {
   "cell_type": "code",
   "execution_count": 287,
   "metadata": {},
   "outputs": [
    {
     "name": "stdout",
     "output_type": "stream",
     "text": [
      "294/294 [==============================] - 0s 1ms/step - loss: 8.0101e-04\n",
      "0.0008010061574168503\n"
     ]
    }
   ],
   "source": [
    "score = model.evaluate(X_test, y_test, verbose=1)\n",
    "print(score)"
   ]
  },
  {
   "cell_type": "code",
   "execution_count": 288,
   "metadata": {},
   "outputs": [
    {
     "data": {
      "image/png": "[encoded data removed]",
      "text/plain": [
       "<Figure size 432x288 with 1 Axes>"
      ]
     },
     "metadata": {
      "needs_background": "light"
     },
     "output_type": "display_data"
    }
   ],
   "source": [
    "plt.plot(history.history['loss'], label='Train loss')\n",
    "plt.legend\n",
    "plt.show()"
   ]
  },
  {
   "cell_type": "code",
   "execution_count": 289,
   "metadata": {},
   "outputs": [
    {
     "data": {
      "text/plain": [
       "array([[0.3845892 ],\n",
       "       [0.3860368 ],\n",
       "       [0.38423175],\n",
       "       ...,\n",
       "       [0.07994591],\n",
       "       [0.09130415],\n",
       "       [0.09138776]], dtype=float32)"
      ]
     },
     "execution_count": 289,
     "metadata": {},
     "output_type": "execute_result"
    }
   ],
   "source": [
    "trainPredict = model.predict(X_train)\n",
    "testPredict = model.predict(X_test)\n",
    "trainPredict"
   ]
  },
  {
   "cell_type": "code",
   "execution_count": 290,
   "metadata": {},
   "outputs": [],
   "source": [
    "testPredict = model.predict(X_test)\n",
    "test = np.argmax(testPredict, axis=1)\n",
    "\n",
    "test2 = np.argmax(y_test, axis=1)"
   ]
  },
  {
   "cell_type": "code",
   "execution_count": 291,
   "metadata": {},
   "outputs": [
    {
     "data": {
      "text/html": [
       "<div>\n",
       "<style scoped>\n",
       "    .dataframe tbody tr th:only-of-type {\n",
       "        vertical-align: middle;\n",
       "    }\n",
       "\n",
       "    .dataframe tbody tr th {\n",
       "        vertical-align: top;\n",
       "    }\n",
       "\n",
       "    .dataframe thead th {\n",
       "        text-align: right;\n",
       "    }\n",
       "</style>\n",
       "<table border=\"1\" class=\"dataframe\">\n",
       "  <thead>\n",
       "    <tr style=\"text-align: right;\">\n",
       "      <th></th>\n",
       "      <th>ข้อมูลจริง</th>\n",
       "      <th>ข้อมูลพยากรณ์</th>\n",
       "    </tr>\n",
       "  </thead>\n",
       "  <tbody>\n",
       "    <tr>\n",
       "      <th>0</th>\n",
       "      <td>0</td>\n",
       "      <td>0</td>\n",
       "    </tr>\n",
       "    <tr>\n",
       "      <th>1</th>\n",
       "      <td>0</td>\n",
       "      <td>0</td>\n",
       "    </tr>\n",
       "    <tr>\n",
       "      <th>2</th>\n",
       "      <td>0</td>\n",
       "      <td>0</td>\n",
       "    </tr>\n",
       "    <tr>\n",
       "      <th>3</th>\n",
       "      <td>0</td>\n",
       "      <td>0</td>\n",
       "    </tr>\n",
       "    <tr>\n",
       "      <th>4</th>\n",
       "      <td>0</td>\n",
       "      <td>0</td>\n",
       "    </tr>\n",
       "    <tr>\n",
       "      <th>...</th>\n",
       "      <td>...</td>\n",
       "      <td>...</td>\n",
       "    </tr>\n",
       "    <tr>\n",
       "      <th>9374</th>\n",
       "      <td>0</td>\n",
       "      <td>0</td>\n",
       "    </tr>\n",
       "    <tr>\n",
       "      <th>9375</th>\n",
       "      <td>0</td>\n",
       "      <td>0</td>\n",
       "    </tr>\n",
       "    <tr>\n",
       "      <th>9376</th>\n",
       "      <td>0</td>\n",
       "      <td>0</td>\n",
       "    </tr>\n",
       "    <tr>\n",
       "      <th>9377</th>\n",
       "      <td>0</td>\n",
       "      <td>0</td>\n",
       "    </tr>\n",
       "    <tr>\n",
       "      <th>9378</th>\n",
       "      <td>0</td>\n",
       "      <td>0</td>\n",
       "    </tr>\n",
       "  </tbody>\n",
       "</table>\n",
       "<p>9379 rows × 2 columns</p>\n",
       "</div>"
      ],
      "text/plain": [
       "      ข้อมูลจริง  ข้อมูลพยากรณ์\n",
       "0              0              0\n",
       "1              0              0\n",
       "2              0              0\n",
       "3              0              0\n",
       "4              0              0\n",
       "...          ...            ...\n",
       "9374           0              0\n",
       "9375           0              0\n",
       "9376           0              0\n",
       "9377           0              0\n",
       "9378           0              0\n",
       "\n",
       "[9379 rows x 2 columns]"
      ]
     },
     "execution_count": 291,
     "metadata": {},
     "output_type": "execute_result"
    }
   ],
   "source": [
    "dm = pd.DataFrame({'ข้อมูลจริง': test2, 'ข้อมูลพยากรณ์': test})\n",
    "dm"
   ]
  },
  {
   "cell_type": "code",
   "execution_count": 292,
   "metadata": {},
   "outputs": [
    {
     "name": "stdout",
     "output_type": "stream",
     "text": [
      "R2_Train: 0.968\n",
      "R2_Test: 0.924\n",
      "RMSE Train: 2.445\n",
      "RMSE Test: 3.609\n"
     ]
    }
   ],
   "source": [
    "from sklearn.metrics import mean_squared_error, r2_score\n",
    "\n",
    "trainPredict_inv = sc.inverse_transform(trainPredict)\n",
    "testPredict_inv = sc.inverse_transform(testPredict)\n",
    "y_train_inv = sc.inverse_transform(y_train)\n",
    "y_test_inv = sc.inverse_transform(y_test)\n",
    "\n",
    "r2_train = r2_score(y_train_inv, trainPredict_inv)\n",
    "r2_test = r2_score(y_test_inv, testPredict_inv)\n",
    "\n",
    "rmse_train = np.sqrt(mean_squared_error(y_train_inv, trainPredict_inv))\n",
    "rmse_test = np.sqrt(mean_squared_error(y_test_inv, testPredict_inv))\n",
    "\n",
    "print('R2_Train: {:.3f}'.format(r2_train))\n",
    "print('R2_Test: {:.3f}'.format(r2_test))\n",
    "\n",
    "print('RMSE Train: {:.3f}'.format(rmse_train))\n",
    "print('RMSE Test: {:.3f}'.format(rmse_test))\n"
   ]
  },
  {
   "cell_type": "code",
   "execution_count": 294,
   "metadata": {},
   "outputs": [],
   "source": [
    "prefix = np.empty(step).reshape(-1, 1)\n",
    "prefix.fill(np.nan)\n",
    "\n",
    "trainPredict_inv = np.concatenate((prefix, trainPredict_inv), axis=0)\n",
    "testPredict_inv = np.concatenate((prefix, testPredict_inv), axis=0)\n",
    "\n",
    "predict_inv = np.concatenate((trainPredict_inv, testPredict_inv), axis=0)\n"
   ]
  },
  {
   "cell_type": "code",
   "execution_count": 295,
   "metadata": {},
   "outputs": [
    {
     "data": {
      "text/plain": [
       "array([[        nan],\n",
       "       [        nan],\n",
       "       [        nan],\n",
       "       ...,\n",
       "       [51.87073135],\n",
       "       [50.01901245],\n",
       "       [47.27271271]])"
      ]
     },
     "execution_count": 295,
     "metadata": {},
     "output_type": "execute_result"
    }
   ],
   "source": [
    "predict_inv"
   ]
  },
  {
   "cell_type": "code",
   "execution_count": 307,
   "metadata": {},
   "outputs": [
    {
     "data": {
      "image/png": "[encoded data removed]",
      "text/plain": [
       "<Figure size 720x288 with 1 Axes>"
      ]
     },
     "metadata": {
      "needs_background": "light"
     },
     "output_type": "display_data"
    }
   ],
   "source": [
    "plt.figure(figsize=(10, 4))\n",
    "plt.plot(df.values, 'r', lw=3.0, label='Actual')\n",
    "plt.plot(predict_inv, 'b', lw=3.0, label='Predict')\n",
    "plt.axvline(n_train-step-1, c='black', lw=2.0)\n",
    "plt.legend()\n",
    "plt.show()"
   ]
  },
  {
   "cell_type": "markdown",
   "metadata": {},
   "source": [
    "##### นำส่วนท้ายมาเป็น input มาพยากรณ์จำนวนผู้ป่วยโควิด19 ในวันถัดไป "
   ]
  },
  {
   "cell_type": "code",
   "execution_count": 297,
   "metadata": {},
   "outputs": [
    {
     "name": "stdout",
     "output_type": "stream",
     "text": [
      "พยากรณ์ PM2.5 ระยะเวลา 1 วัน (24 ชม.) = 21.0 ไมโครกรัมต่อลูกบาศก์เมตร (มคก./ลบ.ม. หรือ µg./m.)\n"
     ]
    }
   ],
   "source": [
    "X_input = X_train[-step]\n",
    "\n",
    "pred = model.predict(X_input)\n",
    "pred_inv = sc.inverse_transform(pred)\n",
    "\n",
    "#มลพิษ ประเทศไทย ค่า PM 2.5 ไม่ควรเกิน 50 ไมโครกรัม ต่อลูกบาศก์เมตรใน 24 ชั่วโมง\n",
    "print('พยากรณ์ PM2.5 ระยะเวลา 1 วัน (24 ชม.) =', pred_inv[-1][-1].round(0),'ไมโครกรัมต่อลูกบาศก์เมตร (มคก./ลบ.ม. หรือ µg./m.)')"
   ]
  }
 ],
 "metadata": {
  "interpreter": {
   "hash": "628a0465dbd111405b4edd9d7b88a6fdbb764392335ef0e96f2e8a7899c710eb"
  },
  "kernelspec": {
   "display_name": "Python 3.9.10 64-bit ('myenv': conda)",
   "language": "python",
   "name": "python3"
  },
  "language_info": {
   "codemirror_mode": {
    "name": "ipython",
    "version": 3
   },
   "file_extension": ".py",
   "mimetype": "text/x-python",
   "name": "python",
   "nbconvert_exporter": "python",
   "pygments_lexer": "ipython3",
   "version": "3.9.10"
  },
  "orig_nbformat": 4
 },
 "nbformat": 4,
 "nbformat_minor": 2
}
